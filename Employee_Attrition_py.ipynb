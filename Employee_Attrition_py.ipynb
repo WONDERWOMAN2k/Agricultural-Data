{
  "nbformat": 4,
  "nbformat_minor": 0,
  "metadata": {
    "colab": {
      "provenance": [],
      "authorship_tag": "ABX9TyMItXNAo3mTzNppD+TwWZtm",
      "include_colab_link": true
    },
    "kernelspec": {
      "name": "python3",
      "display_name": "Python 3"
    },
    "language_info": {
      "name": "python"
    }
  },
  "cells": [
    {
      "cell_type": "markdown",
      "metadata": {
        "id": "view-in-github",
        "colab_type": "text"
      },
      "source": [
        "<a href=\"https://colab.research.google.com/github/WONDERWOMAN2k/Agricultural-Data/blob/main/Employee_Attrition_py.ipynb\" target=\"_parent\"><img src=\"https://colab.research.google.com/assets/colab-badge.svg\" alt=\"Open In Colab\"/></a>"
      ]
    },
    {
      "cell_type": "code",
      "execution_count": 1,
      "metadata": {
        "colab": {
          "base_uri": "https://localhost:8080/",
          "height": 403
        },
        "id": "BkE0Znwz5zoW",
        "outputId": "edda638c-6557-4a37-df80-37eb9dbbcfc6"
      },
      "outputs": [
        {
          "output_type": "error",
          "ename": "ModuleNotFoundError",
          "evalue": "No module named 'streamlit'",
          "traceback": [
            "\u001b[0;31m---------------------------------------------------------------------------\u001b[0m",
            "\u001b[0;31mModuleNotFoundError\u001b[0m                       Traceback (most recent call last)",
            "\u001b[0;32m<ipython-input-1-c1f4eef0716e>\u001b[0m in \u001b[0;36m<cell line: 0>\u001b[0;34m()\u001b[0m\n\u001b[0;32m----> 1\u001b[0;31m \u001b[0;32mimport\u001b[0m \u001b[0mstreamlit\u001b[0m \u001b[0;32mas\u001b[0m \u001b[0mst\u001b[0m\u001b[0;34m\u001b[0m\u001b[0;34m\u001b[0m\u001b[0m\n\u001b[0m\u001b[1;32m      2\u001b[0m \u001b[0;32mimport\u001b[0m \u001b[0mpandas\u001b[0m \u001b[0;32mas\u001b[0m \u001b[0mpd\u001b[0m\u001b[0;34m\u001b[0m\u001b[0;34m\u001b[0m\u001b[0m\n\u001b[1;32m      3\u001b[0m \u001b[0;32mimport\u001b[0m \u001b[0mnumpy\u001b[0m \u001b[0;32mas\u001b[0m \u001b[0mnp\u001b[0m\u001b[0;34m\u001b[0m\u001b[0;34m\u001b[0m\u001b[0m\n\u001b[1;32m      4\u001b[0m \u001b[0;32mimport\u001b[0m \u001b[0mjoblib\u001b[0m\u001b[0;34m\u001b[0m\u001b[0;34m\u001b[0m\u001b[0m\n\u001b[1;32m      5\u001b[0m \u001b[0;32mimport\u001b[0m \u001b[0mseaborn\u001b[0m \u001b[0;32mas\u001b[0m \u001b[0msns\u001b[0m\u001b[0;34m\u001b[0m\u001b[0;34m\u001b[0m\u001b[0m\n",
            "\u001b[0;31mModuleNotFoundError\u001b[0m: No module named 'streamlit'",
            "",
            "\u001b[0;31m---------------------------------------------------------------------------\u001b[0;32m\nNOTE: If your import is failing due to a missing package, you can\nmanually install dependencies using either !pip or !apt.\n\nTo view examples of installing some common dependencies, click the\n\"Open Examples\" button below.\n\u001b[0;31m---------------------------------------------------------------------------\u001b[0m\n"
          ],
          "errorDetails": {
            "actions": [
              {
                "action": "open_url",
                "actionText": "Open Examples",
                "url": "/notebooks/snippets/importing_libraries.ipynb"
              }
            ]
          }
        }
      ],
      "source": [
        "import streamlit as st\n",
        "import pandas as pd\n",
        "import numpy as np\n",
        "import joblib\n",
        "import seaborn as sns\n",
        "import matplotlib.pyplot as plt\n",
        "\n",
        "# Page configuration\n",
        "st.set_page_config(page_title=\"Employee Attrition Dashboard\", layout=\"wide\")\n",
        "\n",
        "# Load model and data\n",
        "@st.cache_data\n",
        "def load_model():\n",
        "    return joblib.load(\"attrition_model.pkl\")\n",
        "\n",
        "@st.cache_data\n",
        "def load_data():\n",
        "    return pd.read_csv(\"cleaned_employee_data.csv\")\n",
        "\n",
        "model = load_model()\n",
        "full_df = load_data()\n",
        "\n",
        "# Title\n",
        "st.title(\"🏢 Employee Attrition Prediction Dashboard\")\n",
        "st.markdown(\"Analyze employee attrition, job satisfaction, and performance with real-time predictions and visual insights.\")\n",
        "\n",
        "# Sidebar menu\n",
        "menu = st.sidebar.selectbox(\"Choose Feature\", (\n",
        "    \"Attrition Prediction\",\n",
        "    \"High-Risk Employee List\",\n",
        "    \"Job Satisfaction & Performance\",\n",
        "    \"Side-by-Side Comparison\")\n",
        ")\n",
        "\n",
        "# 1. Attrition Prediction\n",
        "if menu == \"Attrition Prediction\":\n",
        "    st.header(\"📊 Real-Time Attrition Prediction\")\n",
        "    uploaded_file = st.file_uploader(\"Upload employee data (CSV)\", type=\"csv\")\n",
        "\n",
        "    if uploaded_file:\n",
        "        input_df = pd.read_csv(uploaded_file)\n",
        "        prediction = model.predict(input_df)\n",
        "        proba = model.predict_proba(input_df)\n",
        "\n",
        "        input_df[\"Attrition Prediction\"] = prediction\n",
        "        input_df[\"Risk Score (%)\"] = (proba[:, 1] * 100).round(2)\n",
        "\n",
        "        st.success(\"✅ Prediction complete!\")\n",
        "        st.dataframe(input_df)\n",
        "\n",
        "        # Download\n",
        "        csv = input_df.to_csv(index=False).encode('utf-8')\n",
        "        st.download_button(\"Download Results\", csv, \"attrition_predictions.csv\", \"text/csv\")\n",
        "\n",
        "# 2. High-Risk Employee List\n",
        "elif menu == \"High-Risk Employee List\":\n",
        "    st.header(\"🚨 High-Risk Employee List\")\n",
        "    st.markdown(\"Employees with risk score greater than 70% are considered high risk.\")\n",
        "\n",
        "    if \"Risk Score (%)\" not in full_df.columns:\n",
        "        proba = model.predict_proba(full_df)\n",
        "        full_df[\"Risk Score (%)\"] = (proba[:, 1] * 100).round(2)\n",
        "\n",
        "    high_risk = full_df[full_df[\"Risk Score (%)\"] >= 70]\n",
        "    st.dataframe(high_risk[[\"EmployeeID\", \"Department\", \"JobRole\", \"Risk Score (%)\"]])\n",
        "\n",
        "# 3. Job Satisfaction & Performance\n",
        "elif menu == \"Job Satisfaction & Performance\":\n",
        "    st.header(\"⭐ Job Satisfaction & Performance Analysis\")\n",
        "\n",
        "    st.subheader(\"Heatmap: Satisfaction vs Performance\")\n",
        "    fig, ax = plt.subplots(figsize=(6,4))\n",
        "    sns.heatmap(pd.crosstab(full_df[\"JobSatisfaction\"], full_df[\"PerformanceRating\"]), annot=True, cmap=\"YlGnBu\", ax=ax)\n",
        "    st.pyplot(fig)\n",
        "\n",
        "    st.subheader(\"High Satisfaction + High Performance Employees\")\n",
        "    top_employees = full_df[(full_df[\"JobSatisfaction\"] >= 4) & (full_df[\"PerformanceRating\"] >= 4)]\n",
        "    st.dataframe(top_employees[[\"EmployeeID\", \"JobRole\", \"JobSatisfaction\", \"PerformanceRating\"]])\n",
        "\n",
        "# 4. Side-by-Side Comparison\n",
        "elif menu == \"Side-by-Side Comparison\":\n",
        "    st.header(\"🧍‍♂️🧍 Employee Comparison\")\n",
        "\n",
        "    employee_ids = full_df[\"EmployeeID\"].unique()\n",
        "    emp1 = st.selectbox(\"Select Employee 1\", employee_ids)\n",
        "    emp2 = st.selectbox(\"Select Employee 2\", employee_ids, index=1)\n",
        "\n",
        "    emp1_data = full_df[full_df[\"EmployeeID\"] == emp1].T\n",
        "    emp2_data = full_df[full_df[\"EmployeeID\"] == emp2].T\n",
        "\n",
        "    col1, col2 = st.columns(2)\n",
        "    with col1:\n",
        "        st.subheader(f\"👤 Employee {emp1}\")\n",
        "        st.dataframe(emp1_data)\n",
        "\n",
        "    with col2:\n",
        "        st.subheader(f\"👤 Employee {emp2}\")\n",
        "        st.dataframe(emp2_data)\n",
        "\n",
        "# Footer\n",
        "st.markdown(\"---\")\n",
        "st.markdown(\"© 2025 HR Analytics Project | Built with ❤️ using Streamlit\")\n"
      ]
    }
  ]
}